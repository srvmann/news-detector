{
 "cells": [
  {
   "cell_type": "code",
   "execution_count": 24,
   "id": "84c4d246",
   "metadata": {},
   "outputs": [],
   "source": [
    "import os\n",
    "import re\n",
    "import string\n",
    "import numpy as np\n",
    "import pandas as pd\n",
    "import dagshub\n",
    "import mlflow\n",
    "import joblib\n",
    "import warnings\n",
    "warnings.filterwarnings('ignore')\n",
    "\n",
    "from mlflow import log_metric, log_param, log_artifacts\n",
    "from mlflow import sklearn as mlflow_sklearn\n",
    "from nltk.corpus import stopwords\n",
    "from sklearn.preprocessing import LabelEncoder\n",
    "from sklearn.feature_extraction.text import CountVectorizer\n",
    "from sklearn.model_selection import train_test_split\n",
    "from sklearn.preprocessing import OneHotEncoder, StandardScaler\n",
    "from sklearn.compose import ColumnTransformer\n",
    "from sklearn.pipeline import Pipeline\n",
    "from sklearn.naive_bayes import MultinomialNB\n",
    "from sklearn.metrics import classification_report, accuracy_score,precision_score,recall_score,f1_score\n",
    "from sklearn.metrics import confusion_matrix\n",
    "from sklearn.linear_model import LogisticRegression\n",
    "from sklearn.ensemble import  RandomForestClassifier\n",
    "from xgboost import XGBClassifier"
   ]
  },
  {
   "cell_type": "code",
   "execution_count": 3,
   "id": "e7a57f1e",
   "metadata": {},
   "outputs": [],
   "source": [
    "# Loading the data \n",
    "df = pd.read_csv(r\"C:\\Users\\Varun\\Downloads\\Saurav\\Outsource 360 internship\\Project\\Fake News Detector\\News.csv\")"
   ]
  },
  {
   "cell_type": "code",
   "execution_count": 4,
   "id": "09edff5c",
   "metadata": {},
   "outputs": [
    {
     "data": {
      "text/html": [
       "<div>\n",
       "<style scoped>\n",
       "    .dataframe tbody tr th:only-of-type {\n",
       "        vertical-align: middle;\n",
       "    }\n",
       "\n",
       "    .dataframe tbody tr th {\n",
       "        vertical-align: top;\n",
       "    }\n",
       "\n",
       "    .dataframe thead th {\n",
       "        text-align: right;\n",
       "    }\n",
       "</style>\n",
       "<table border=\"1\" class=\"dataframe\">\n",
       "  <thead>\n",
       "    <tr style=\"text-align: right;\">\n",
       "      <th></th>\n",
       "      <th>title</th>\n",
       "      <th>text</th>\n",
       "      <th>subject</th>\n",
       "      <th>date</th>\n",
       "      <th>label</th>\n",
       "    </tr>\n",
       "  </thead>\n",
       "  <tbody>\n",
       "    <tr>\n",
       "      <th>0</th>\n",
       "      <td>Suicide attack targets area southeast of Baghdad</td>\n",
       "      <td>BAGHDAD (Reuters) - Two attackers shot several...</td>\n",
       "      <td>worldnews</td>\n",
       "      <td>2017-11-27</td>\n",
       "      <td>true</td>\n",
       "    </tr>\n",
       "    <tr>\n",
       "      <th>1</th>\n",
       "      <td>FLASHBACK: WATCH TED CRUZ Promise To Support D...</td>\n",
       "      <td>Yes, he did promise to support Donald Trump:</td>\n",
       "      <td>politics</td>\n",
       "      <td>2016-07-21</td>\n",
       "      <td>fake</td>\n",
       "    </tr>\n",
       "    <tr>\n",
       "      <th>2</th>\n",
       "      <td>Boris Johnson gives PM May advice on Brexit wh...</td>\n",
       "      <td>MANCHESTER, England (Reuters) - British Foreig...</td>\n",
       "      <td>worldnews</td>\n",
       "      <td>2017-10-03</td>\n",
       "      <td>true</td>\n",
       "    </tr>\n",
       "    <tr>\n",
       "      <th>3</th>\n",
       "      <td>India struggles to rein in border flows of cat...</td>\n",
       "      <td>NEW DELHI (Reuters) - Stopping Rohingya refuge...</td>\n",
       "      <td>worldnews</td>\n",
       "      <td>2017-10-05</td>\n",
       "      <td>true</td>\n",
       "    </tr>\n",
       "    <tr>\n",
       "      <th>4</th>\n",
       "      <td>In speech, Trump tries to turn from divisive t...</td>\n",
       "      <td>WASHINGTON (Reuters) - U.S. President Donald T...</td>\n",
       "      <td>politicsNews</td>\n",
       "      <td>2017-03-01</td>\n",
       "      <td>true</td>\n",
       "    </tr>\n",
       "  </tbody>\n",
       "</table>\n",
       "</div>"
      ],
      "text/plain": [
       "                                               title  \\\n",
       "0   Suicide attack targets area southeast of Baghdad   \n",
       "1  FLASHBACK: WATCH TED CRUZ Promise To Support D...   \n",
       "2  Boris Johnson gives PM May advice on Brexit wh...   \n",
       "3  India struggles to rein in border flows of cat...   \n",
       "4  In speech, Trump tries to turn from divisive t...   \n",
       "\n",
       "                                                text       subject  \\\n",
       "0  BAGHDAD (Reuters) - Two attackers shot several...     worldnews   \n",
       "1      Yes, he did promise to support Donald Trump:       politics   \n",
       "2  MANCHESTER, England (Reuters) - British Foreig...     worldnews   \n",
       "3  NEW DELHI (Reuters) - Stopping Rohingya refuge...     worldnews   \n",
       "4  WASHINGTON (Reuters) - U.S. President Donald T...  politicsNews   \n",
       "\n",
       "         date label  \n",
       "0  2017-11-27  true  \n",
       "1  2016-07-21  fake  \n",
       "2  2017-10-03  true  \n",
       "3  2017-10-05  true  \n",
       "4  2017-03-01  true  "
      ]
     },
     "execution_count": 4,
     "metadata": {},
     "output_type": "execute_result"
    }
   ],
   "source": [
    "df.head()"
   ]
  },
  {
   "cell_type": "code",
   "execution_count": 5,
   "id": "448da04e",
   "metadata": {},
   "outputs": [],
   "source": [
    "df[\"label\"] = df[\"label\"].map({'fake':0, 'true':1})"
   ]
  },
  {
   "cell_type": "code",
   "execution_count": 6,
   "id": "a31594da",
   "metadata": {},
   "outputs": [],
   "source": [
    "# Function to remove all the unwanted things from our text column\n",
    "\n",
    "def clean_text(text):\n",
    "    \n",
    "    text = str(text)  # Ensure it's a string\n",
    "\n",
    "    # Remove HTML tags\n",
    "    text = re.sub(r\"<.*?>\", \"\", text)\n",
    "\n",
    "    # Remove URLs\n",
    "    text = re.sub(r\"http\\S+|www\\.\\S+\", \"\", text)\n",
    "\n",
    "    # Remove email addresses\n",
    "    text = re.sub(r\"\\S+@\\S+\", \"\", text)\n",
    "\n",
    "    # Remove non-ASCII characters\n",
    "    text = text.encode(\"ascii\", errors=\"ignore\").decode()\n",
    "\n",
    "    # Convert to lowercase\n",
    "    text = text.lower()\n",
    "\n",
    "    # Remove leading/trailing and multiple spaces\n",
    "    text = re.sub(r\"\\s+\", \" \", text).strip()\n",
    "\n",
    "    return text"
   ]
  },
  {
   "cell_type": "code",
   "execution_count": 7,
   "id": "b35bea4a",
   "metadata": {},
   "outputs": [],
   "source": [
    "# new feature that holds cleaned text (free from url,email,non ascii chars or html tags)\n",
    "df[\"clean_text\"] = df[\"text\"].apply(clean_text)\n",
    "df[\"clean_title\"] = df[\"title\"].apply(clean_text)"
   ]
  },
  {
   "cell_type": "code",
   "execution_count": 8,
   "id": "033f22f5",
   "metadata": {},
   "outputs": [
    {
     "data": {
      "text/html": [
       "<div>\n",
       "<style scoped>\n",
       "    .dataframe tbody tr th:only-of-type {\n",
       "        vertical-align: middle;\n",
       "    }\n",
       "\n",
       "    .dataframe tbody tr th {\n",
       "        vertical-align: top;\n",
       "    }\n",
       "\n",
       "    .dataframe thead th {\n",
       "        text-align: right;\n",
       "    }\n",
       "</style>\n",
       "<table border=\"1\" class=\"dataframe\">\n",
       "  <thead>\n",
       "    <tr style=\"text-align: right;\">\n",
       "      <th></th>\n",
       "      <th>title</th>\n",
       "      <th>text</th>\n",
       "      <th>subject</th>\n",
       "      <th>date</th>\n",
       "      <th>label</th>\n",
       "      <th>clean_text</th>\n",
       "      <th>clean_title</th>\n",
       "    </tr>\n",
       "  </thead>\n",
       "  <tbody>\n",
       "    <tr>\n",
       "      <th>0</th>\n",
       "      <td>Suicide attack targets area southeast of Baghdad</td>\n",
       "      <td>BAGHDAD (Reuters) - Two attackers shot several...</td>\n",
       "      <td>worldnews</td>\n",
       "      <td>2017-11-27</td>\n",
       "      <td>1</td>\n",
       "      <td>baghdad (reuters) - two attackers shot several...</td>\n",
       "      <td>suicide attack targets area southeast of baghdad</td>\n",
       "    </tr>\n",
       "    <tr>\n",
       "      <th>1</th>\n",
       "      <td>FLASHBACK: WATCH TED CRUZ Promise To Support D...</td>\n",
       "      <td>Yes, he did promise to support Donald Trump:</td>\n",
       "      <td>politics</td>\n",
       "      <td>2016-07-21</td>\n",
       "      <td>0</td>\n",
       "      <td>yes, he did promise to support donald trump:</td>\n",
       "      <td>flashback: watch ted cruz promise to support d...</td>\n",
       "    </tr>\n",
       "    <tr>\n",
       "      <th>2</th>\n",
       "      <td>Boris Johnson gives PM May advice on Brexit wh...</td>\n",
       "      <td>MANCHESTER, England (Reuters) - British Foreig...</td>\n",
       "      <td>worldnews</td>\n",
       "      <td>2017-10-03</td>\n",
       "      <td>1</td>\n",
       "      <td>manchester, england (reuters) - british foreig...</td>\n",
       "      <td>boris johnson gives pm may advice on brexit wh...</td>\n",
       "    </tr>\n",
       "  </tbody>\n",
       "</table>\n",
       "</div>"
      ],
      "text/plain": [
       "                                               title  \\\n",
       "0   Suicide attack targets area southeast of Baghdad   \n",
       "1  FLASHBACK: WATCH TED CRUZ Promise To Support D...   \n",
       "2  Boris Johnson gives PM May advice on Brexit wh...   \n",
       "\n",
       "                                                text    subject        date  \\\n",
       "0  BAGHDAD (Reuters) - Two attackers shot several...  worldnews  2017-11-27   \n",
       "1      Yes, he did promise to support Donald Trump:    politics  2016-07-21   \n",
       "2  MANCHESTER, England (Reuters) - British Foreig...  worldnews  2017-10-03   \n",
       "\n",
       "   label                                         clean_text  \\\n",
       "0      1  baghdad (reuters) - two attackers shot several...   \n",
       "1      0       yes, he did promise to support donald trump:   \n",
       "2      1  manchester, england (reuters) - british foreig...   \n",
       "\n",
       "                                         clean_title  \n",
       "0   suicide attack targets area southeast of baghdad  \n",
       "1  flashback: watch ted cruz promise to support d...  \n",
       "2  boris johnson gives pm may advice on brexit wh...  "
      ]
     },
     "execution_count": 8,
     "metadata": {},
     "output_type": "execute_result"
    }
   ],
   "source": [
    "df.head(3)"
   ]
  },
  {
   "cell_type": "code",
   "execution_count": 9,
   "id": "fe084cd8",
   "metadata": {},
   "outputs": [],
   "source": [
    "# Removing the raw text and title columns\n",
    "df.drop(columns=[\"text\",\"title\"], inplace=True)"
   ]
  },
  {
   "cell_type": "code",
   "execution_count": 10,
   "id": "912ebaa1",
   "metadata": {},
   "outputs": [
    {
     "data": {
      "text/html": [
       "<div>\n",
       "<style scoped>\n",
       "    .dataframe tbody tr th:only-of-type {\n",
       "        vertical-align: middle;\n",
       "    }\n",
       "\n",
       "    .dataframe tbody tr th {\n",
       "        vertical-align: top;\n",
       "    }\n",
       "\n",
       "    .dataframe thead th {\n",
       "        text-align: right;\n",
       "    }\n",
       "</style>\n",
       "<table border=\"1\" class=\"dataframe\">\n",
       "  <thead>\n",
       "    <tr style=\"text-align: right;\">\n",
       "      <th></th>\n",
       "      <th>subject</th>\n",
       "      <th>date</th>\n",
       "      <th>label</th>\n",
       "      <th>clean_text</th>\n",
       "      <th>clean_title</th>\n",
       "    </tr>\n",
       "  </thead>\n",
       "  <tbody>\n",
       "    <tr>\n",
       "      <th>0</th>\n",
       "      <td>worldnews</td>\n",
       "      <td>2017-11-27</td>\n",
       "      <td>1</td>\n",
       "      <td>baghdad (reuters) - two attackers shot several...</td>\n",
       "      <td>suicide attack targets area southeast of baghdad</td>\n",
       "    </tr>\n",
       "    <tr>\n",
       "      <th>1</th>\n",
       "      <td>politics</td>\n",
       "      <td>2016-07-21</td>\n",
       "      <td>0</td>\n",
       "      <td>yes, he did promise to support donald trump:</td>\n",
       "      <td>flashback: watch ted cruz promise to support d...</td>\n",
       "    </tr>\n",
       "    <tr>\n",
       "      <th>2</th>\n",
       "      <td>worldnews</td>\n",
       "      <td>2017-10-03</td>\n",
       "      <td>1</td>\n",
       "      <td>manchester, england (reuters) - british foreig...</td>\n",
       "      <td>boris johnson gives pm may advice on brexit wh...</td>\n",
       "    </tr>\n",
       "  </tbody>\n",
       "</table>\n",
       "</div>"
      ],
      "text/plain": [
       "     subject        date  label  \\\n",
       "0  worldnews  2017-11-27      1   \n",
       "1   politics  2016-07-21      0   \n",
       "2  worldnews  2017-10-03      1   \n",
       "\n",
       "                                          clean_text  \\\n",
       "0  baghdad (reuters) - two attackers shot several...   \n",
       "1       yes, he did promise to support donald trump:   \n",
       "2  manchester, england (reuters) - british foreig...   \n",
       "\n",
       "                                         clean_title  \n",
       "0   suicide attack targets area southeast of baghdad  \n",
       "1  flashback: watch ted cruz promise to support d...  \n",
       "2  boris johnson gives pm may advice on brexit wh...  "
      ]
     },
     "execution_count": 10,
     "metadata": {},
     "output_type": "execute_result"
    }
   ],
   "source": [
    "df.head(3)"
   ]
  },
  {
   "cell_type": "code",
   "execution_count": 11,
   "id": "d8a38896",
   "metadata": {},
   "outputs": [
    {
     "data": {
      "text/plain": [
       "'!\"#$%&\\'()*+,-./:;<=>?@[\\\\]^_`{|}~'"
      ]
     },
     "execution_count": 11,
     "metadata": {},
     "output_type": "execute_result"
    }
   ],
   "source": [
    "# removing punctuation's from text and title column \n",
    "exclude = string.punctuation\n",
    "# exclude is holding all the value's considered as punctuation\n",
    "exclude"
   ]
  },
  {
   "cell_type": "code",
   "execution_count": 12,
   "id": "4f76f577",
   "metadata": {},
   "outputs": [],
   "source": [
    "# function to remove punctuation from clean_text and clean_title column\n",
    "def remove_punc(text):\n",
    "    return text.translate(str.maketrans(\"\",\"\",exclude))"
   ]
  },
  {
   "cell_type": "code",
   "execution_count": 13,
   "id": "42fe4fb8",
   "metadata": {},
   "outputs": [],
   "source": [
    "# remove punctuation from clean_title column\n",
    "df[\"clean_title\"] = df[\"clean_title\"].apply(remove_punc)"
   ]
  },
  {
   "cell_type": "code",
   "execution_count": 14,
   "id": "0e171049",
   "metadata": {},
   "outputs": [],
   "source": [
    "# remove punctuation from clean_text column\n",
    "df[\"clean_text\"] = df[\"clean_text\"].apply(remove_punc)"
   ]
  },
  {
   "cell_type": "code",
   "execution_count": 15,
   "id": "fa090044",
   "metadata": {},
   "outputs": [
    {
     "data": {
      "text/html": [
       "<div>\n",
       "<style scoped>\n",
       "    .dataframe tbody tr th:only-of-type {\n",
       "        vertical-align: middle;\n",
       "    }\n",
       "\n",
       "    .dataframe tbody tr th {\n",
       "        vertical-align: top;\n",
       "    }\n",
       "\n",
       "    .dataframe thead th {\n",
       "        text-align: right;\n",
       "    }\n",
       "</style>\n",
       "<table border=\"1\" class=\"dataframe\">\n",
       "  <thead>\n",
       "    <tr style=\"text-align: right;\">\n",
       "      <th></th>\n",
       "      <th>subject</th>\n",
       "      <th>date</th>\n",
       "      <th>label</th>\n",
       "      <th>clean_text</th>\n",
       "      <th>clean_title</th>\n",
       "    </tr>\n",
       "  </thead>\n",
       "  <tbody>\n",
       "    <tr>\n",
       "      <th>0</th>\n",
       "      <td>worldnews</td>\n",
       "      <td>2017-11-27</td>\n",
       "      <td>1</td>\n",
       "      <td>baghdad reuters  two attackers shot several ci...</td>\n",
       "      <td>suicide attack targets area southeast of baghdad</td>\n",
       "    </tr>\n",
       "    <tr>\n",
       "      <th>1</th>\n",
       "      <td>politics</td>\n",
       "      <td>2016-07-21</td>\n",
       "      <td>0</td>\n",
       "      <td>yes he did promise to support donald trump</td>\n",
       "      <td>flashback watch ted cruz promise to support do...</td>\n",
       "    </tr>\n",
       "    <tr>\n",
       "      <th>2</th>\n",
       "      <td>worldnews</td>\n",
       "      <td>2017-10-03</td>\n",
       "      <td>1</td>\n",
       "      <td>manchester england reuters  british foreign se...</td>\n",
       "      <td>boris johnson gives pm may advice on brexit wh...</td>\n",
       "    </tr>\n",
       "    <tr>\n",
       "      <th>3</th>\n",
       "      <td>worldnews</td>\n",
       "      <td>2017-10-05</td>\n",
       "      <td>1</td>\n",
       "      <td>new delhi reuters  stopping rohingya refugees ...</td>\n",
       "      <td>india struggles to rein in border flows of cat...</td>\n",
       "    </tr>\n",
       "    <tr>\n",
       "      <th>4</th>\n",
       "      <td>politicsNews</td>\n",
       "      <td>2017-03-01</td>\n",
       "      <td>1</td>\n",
       "      <td>washington reuters  us president donald trump ...</td>\n",
       "      <td>in speech trump tries to turn from divisive to...</td>\n",
       "    </tr>\n",
       "  </tbody>\n",
       "</table>\n",
       "</div>"
      ],
      "text/plain": [
       "        subject        date  label  \\\n",
       "0     worldnews  2017-11-27      1   \n",
       "1      politics  2016-07-21      0   \n",
       "2     worldnews  2017-10-03      1   \n",
       "3     worldnews  2017-10-05      1   \n",
       "4  politicsNews  2017-03-01      1   \n",
       "\n",
       "                                          clean_text  \\\n",
       "0  baghdad reuters  two attackers shot several ci...   \n",
       "1         yes he did promise to support donald trump   \n",
       "2  manchester england reuters  british foreign se...   \n",
       "3  new delhi reuters  stopping rohingya refugees ...   \n",
       "4  washington reuters  us president donald trump ...   \n",
       "\n",
       "                                         clean_title  \n",
       "0   suicide attack targets area southeast of baghdad  \n",
       "1  flashback watch ted cruz promise to support do...  \n",
       "2  boris johnson gives pm may advice on brexit wh...  \n",
       "3  india struggles to rein in border flows of cat...  \n",
       "4  in speech trump tries to turn from divisive to...  "
      ]
     },
     "execution_count": 15,
     "metadata": {},
     "output_type": "execute_result"
    }
   ],
   "source": [
    "df.head()"
   ]
  },
  {
   "cell_type": "code",
   "execution_count": 16,
   "id": "4dfd0c86",
   "metadata": {},
   "outputs": [],
   "source": [
    "# Combining the text and title column and rearranging the columns\n",
    "df[\"combined_text\"] = df[\"clean_title\"] + \" \" + df[\"clean_text\"]"
   ]
  },
  {
   "cell_type": "code",
   "execution_count": 17,
   "id": "7aedc2ba",
   "metadata": {},
   "outputs": [],
   "source": [
    "df = df[[\"combined_text\",\"subject\",\"date\",\"label\"]]"
   ]
  },
  {
   "cell_type": "code",
   "execution_count": 18,
   "id": "0b556c9b",
   "metadata": {},
   "outputs": [
    {
     "data": {
      "text/html": [
       "<div>\n",
       "<style scoped>\n",
       "    .dataframe tbody tr th:only-of-type {\n",
       "        vertical-align: middle;\n",
       "    }\n",
       "\n",
       "    .dataframe tbody tr th {\n",
       "        vertical-align: top;\n",
       "    }\n",
       "\n",
       "    .dataframe thead th {\n",
       "        text-align: right;\n",
       "    }\n",
       "</style>\n",
       "<table border=\"1\" class=\"dataframe\">\n",
       "  <thead>\n",
       "    <tr style=\"text-align: right;\">\n",
       "      <th></th>\n",
       "      <th>combined_text</th>\n",
       "      <th>subject</th>\n",
       "      <th>date</th>\n",
       "      <th>label</th>\n",
       "    </tr>\n",
       "  </thead>\n",
       "  <tbody>\n",
       "    <tr>\n",
       "      <th>0</th>\n",
       "      <td>suicide attack targets area southeast of baghd...</td>\n",
       "      <td>worldnews</td>\n",
       "      <td>2017-11-27</td>\n",
       "      <td>1</td>\n",
       "    </tr>\n",
       "    <tr>\n",
       "      <th>1</th>\n",
       "      <td>flashback watch ted cruz promise to support do...</td>\n",
       "      <td>politics</td>\n",
       "      <td>2016-07-21</td>\n",
       "      <td>0</td>\n",
       "    </tr>\n",
       "    <tr>\n",
       "      <th>2</th>\n",
       "      <td>boris johnson gives pm may advice on brexit wh...</td>\n",
       "      <td>worldnews</td>\n",
       "      <td>2017-10-03</td>\n",
       "      <td>1</td>\n",
       "    </tr>\n",
       "  </tbody>\n",
       "</table>\n",
       "</div>"
      ],
      "text/plain": [
       "                                       combined_text    subject        date  \\\n",
       "0  suicide attack targets area southeast of baghd...  worldnews  2017-11-27   \n",
       "1  flashback watch ted cruz promise to support do...   politics  2016-07-21   \n",
       "2  boris johnson gives pm may advice on brexit wh...  worldnews  2017-10-03   \n",
       "\n",
       "   label  \n",
       "0      1  \n",
       "1      0  \n",
       "2      1  "
      ]
     },
     "execution_count": 18,
     "metadata": {},
     "output_type": "execute_result"
    }
   ],
   "source": [
    "df.head(3)"
   ]
  },
  {
   "cell_type": "code",
   "execution_count": 19,
   "id": "a64f7a9b",
   "metadata": {},
   "outputs": [],
   "source": [
    "# Initializing the CountVectorizer\n",
    "vectorizer = CountVectorizer(max_features = 1000)"
   ]
  },
  {
   "cell_type": "code",
   "execution_count": 20,
   "id": "06512b43",
   "metadata": {},
   "outputs": [],
   "source": [
    "# Transforming the text data to feature vectors that can be used as input to the model\n",
    "X = vectorizer.fit_transform(df[\"combined_text\"])\n",
    "y = df[\"label\"]"
   ]
  },
  {
   "cell_type": "code",
   "execution_count": 21,
   "id": "1d0c7bdf",
   "metadata": {},
   "outputs": [],
   "source": [
    "# Train test split\n",
    "X_train, X_test, y_train, y_test = train_test_split(X, y,stratify = y, test_size=0.2, random_state=42)"
   ]
  },
  {
   "cell_type": "code",
   "execution_count": 22,
   "id": "d99511c4",
   "metadata": {},
   "outputs": [
    {
     "data": {
      "text/html": [
       "<pre style=\"white-space:pre;overflow-x:auto;line-height:normal;font-family:Menlo,'DejaVu Sans Mono',consolas,'Courier New',monospace\">Accessing as srvmann\n",
       "</pre>\n"
      ],
      "text/plain": [
       "Accessing as srvmann\n"
      ]
     },
     "metadata": {},
     "output_type": "display_data"
    },
    {
     "data": {
      "text/html": [
       "<pre style=\"white-space:pre;overflow-x:auto;line-height:normal;font-family:Menlo,'DejaVu Sans Mono',consolas,'Courier New',monospace\">Initialized MLflow to track repo <span style=\"color: #008000; text-decoration-color: #008000\">\"srvmann/news-detector\"</span>\n",
       "</pre>\n"
      ],
      "text/plain": [
       "Initialized MLflow to track repo \u001b[32m\"srvmann/news-detector\"\u001b[0m\n"
      ]
     },
     "metadata": {},
     "output_type": "display_data"
    },
    {
     "data": {
      "text/html": [
       "<pre style=\"white-space:pre;overflow-x:auto;line-height:normal;font-family:Menlo,'DejaVu Sans Mono',consolas,'Courier New',monospace\">Repository srvmann/news-detector initialized!\n",
       "</pre>\n"
      ],
      "text/plain": [
       "Repository srvmann/news-detector initialized!\n"
      ]
     },
     "metadata": {},
     "output_type": "display_data"
    },
    {
     "data": {
      "text/plain": [
       "<Experiment: artifact_location='mlflow-artifacts:/8e1bb10c74c545babf118673e3eeeed7', creation_time=1759388840432, experiment_id='0', last_update_time=1759388840432, lifecycle_stage='active', name='Logistic Regression Baseline Model', tags={}>"
      ]
     },
     "execution_count": 22,
     "metadata": {},
     "output_type": "execute_result"
    }
   ],
   "source": [
    "# Setting up dagshub \n",
    "import dagshub\n",
    "\n",
    "dagshub.init(repo_owner='srvmann', repo_name='news-detector', mlflow=True)\n",
    "mlflow.set_tracking_uri(\"https://dagshub.com/srvmann/news-detector.mlflow\")\n",
    "\n",
    "mlflow.set_experiment(\"Logistic Regression Baseline Model\")"
   ]
  },
  {
   "cell_type": "code",
   "execution_count": 25,
   "id": "22d69d52",
   "metadata": {},
   "outputs": [
    {
     "name": "stdout",
     "output_type": "stream",
     "text": [
      "Accuracy: 0.9956560481176209\n",
      "Precision: 0.9957953749124037\n",
      "Recall: 0.9950980392156863\n",
      "F1 Score: 0.9954465849387041\n",
      "🏃 View run enchanting-hound-496 at: https://dagshub.com/srvmann/news-detector.mlflow/#/experiments/0/runs/36f66b0e06b44881abb7fca62545aee8\n",
      "🧪 View experiment at: https://dagshub.com/srvmann/news-detector.mlflow/#/experiments/0\n"
     ]
    }
   ],
   "source": [
    "with mlflow.start_run():\n",
    "\n",
    "    # Log preprocessing parameters\n",
    "    mlflow.log_param(\"vectorizer\", \"CountVectorizer\")\n",
    "    mlflow.log_param(\"max_features\", 1000)\n",
    "    mlflow.log_param(\"test_size\",0.2)\n",
    "\n",
    "    # Model building and training\n",
    "    model = LogisticRegression()\n",
    "    model.fit(X_train, y_train)\n",
    "\n",
    "    # Log model parameters\n",
    "    mlflow.log_param(\"model\", \"Logistic Regression\")\n",
    "    mlflow.log_param(\"solver\", model.solver)\n",
    "\n",
    "    # Model evaluation\n",
    "    y_pred     = model.predict(X_test)\n",
    "    accuracy   = accuracy_score(y_test, y_pred)\n",
    "    precision  = precision_score(y_test, y_pred)\n",
    "    recall     = recall_score(y_test, y_pred)   \n",
    "    f1_value   = f1_score(y_test, y_pred)   \n",
    "\n",
    "    # Log metrics\n",
    "    mlflow.log_metric(\"accuracy\", accuracy)\n",
    "    mlflow.log_metric(\"precision\", precision)\n",
    "    mlflow.log_metric(\"recall\", recall)\n",
    "    mlflow.log_metric(\"f1_score\", f1_value)\n",
    "\n",
    "    # Save the model locally\n",
    "    model_path = \"log_reg_model.pkl\"\n",
    "    joblib.dump(model, model_path)\n",
    "\n",
    "    # Log the model as an artifact (this works on DagsHub!)\n",
    "    mlflow.log_artifact(model_path, artifact_path=\"models\")\n",
    "\n",
    "    # Save and log the notebook\n",
    "    notebook_path = \"exp1_baseLineModel.ipynb\"\n",
    "    os.system(f\"jupyter nbconvert --to notebook --execute --inplace {notebook_path}\")\n",
    "    mlflow.log_artifact(notebook_path, artifact_path=\"notebooks\")\n",
    "\n",
    "    # Print classification report\n",
    "    print(\"Accuracy:\", accuracy) \n",
    "    print(\"Precision:\", precision)\n",
    "    print(\"Recall:\", recall)\n",
    "    print(\"F1 Score:\", f1_value)\n"
   ]
  },
  {
   "cell_type": "code",
   "execution_count": null,
   "id": "2af86504",
   "metadata": {},
   "outputs": [],
   "source": []
  },
  {
   "cell_type": "code",
   "execution_count": null,
   "id": "b2d34e05",
   "metadata": {},
   "outputs": [],
   "source": []
  },
  {
   "cell_type": "code",
   "execution_count": null,
   "id": "ec467c37",
   "metadata": {},
   "outputs": [],
   "source": []
  }
 ],
 "metadata": {
  "kernelspec": {
   "display_name": "myenv",
   "language": "python",
   "name": "python3"
  },
  "language_info": {
   "codemirror_mode": {
    "name": "ipython",
    "version": 3
   },
   "file_extension": ".py",
   "mimetype": "text/x-python",
   "name": "python",
   "nbconvert_exporter": "python",
   "pygments_lexer": "ipython3",
   "version": "3.13.1"
  }
 },
 "nbformat": 4,
 "nbformat_minor": 5
}
